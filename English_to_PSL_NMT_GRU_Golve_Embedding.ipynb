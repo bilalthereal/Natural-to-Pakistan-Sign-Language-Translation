{
 "cells": [
  {
   "cell_type": "code",
   "execution_count": 1,
   "metadata": {
    "colab": {
     "base_uri": "https://localhost:8080/"
    },
    "id": "PjJfXM4jDHQo",
    "outputId": "56683731-c4a9-4dec-bfbc-4e26e01e255e"
   },
   "outputs": [
    {
     "name": "stdout",
     "output_type": "stream",
     "text": [
      "Found GPU at: /device:GPU:0\n"
     ]
    }
   ],
   "source": [
    "%tensorflow_version 2.x\n",
    "import tensorflow as tf\n",
    "device_name = tf.test.gpu_device_name()\n",
    "if device_name != '/device:GPU:0':\n",
    "  raise SystemError('GPU device not found')\n",
    "print('Found GPU at: {}'.format(device_name))"
   ]
  },
  {
   "cell_type": "code",
   "execution_count": 2,
   "metadata": {
    "id": "_MLskX-pDyzn"
   },
   "outputs": [],
   "source": [
    "import warnings\n",
    "warnings.filterwarnings('ignore')\n",
    "import string\n",
    "import re\n",
    "from unicodedata import normalize\n",
    "import numpy as np\n",
    "from keras.preprocessing.text import Tokenizer\n",
    "from keras.preprocessing.sequence import pad_sequences\n",
    "from tensorflow.keras.utils import to_categorical\n",
    "from keras.models import Sequential,load_model\n",
    "from keras.layers import LSTM,Dense,Embedding,RepeatVector,TimeDistributed,Bidirectional,GRU\n",
    "from keras.callbacks import EarlyStopping\n",
    "from keras.preprocessing.text import Tokenizer\n",
    "from keras.preprocessing.sequence import pad_sequences\n",
    "from nltk.translate.bleu_score import corpus_bleu\n",
    "import pandas as pd\n",
    "from string import punctuation\n",
    "import matplotlib.pyplot as plt\n",
    "from IPython.display import Markdown, display\n",
    "from keras.layers import Dropout\n",
    "\n",
    "\n",
    "def printmd(string):\n",
    "    # Print with Markdowns    \n",
    "    display(Markdown(string))"
   ]
  },
  {
   "cell_type": "code",
   "execution_count": 3,
   "metadata": {
    "colab": {
     "base_uri": "https://localhost:8080/",
     "height": 151
    },
    "id": "Vdi7enN2Dy4u",
    "outputId": "a54fbaae-7d56-450d-d208-6a0ac22f37a6"
   },
   "outputs": [
    {
     "data": {
      "text/markdown": [
       "## 85221 \"parallel sentences\" will be loaded (original sentence + its translation)"
      ],
      "text/plain": [
       "<IPython.core.display.Markdown object>"
      ]
     },
     "metadata": {},
     "output_type": "display_data"
    },
    {
     "data": {
      "text/markdown": [
       "## 59654 \"parallel sentences\" will be used to train the model"
      ],
      "text/plain": [
       "<IPython.core.display.Markdown object>"
      ]
     },
     "metadata": {},
     "output_type": "display_data"
    },
    {
     "data": {
      "text/markdown": [
       "## 25567 \"parallel sentences\" will be used to test the model"
      ],
      "text/plain": [
       "<IPython.core.display.Markdown object>"
      ]
     },
     "metadata": {},
     "output_type": "display_data"
    }
   ],
   "source": [
    "# How many sentences will be used\n",
    "# Limit the sentences to 10.000 on Kaggle to avoid exceding the\n",
    "# available RAM space\n",
    "# Build a generator to avoid this issue\n",
    "\n",
    "total_sentences = 85221\n",
    "\n",
    "# Load the dataset\n",
    "dataset = pd.read_excel(\"/content/drive/MyDrive/data.xlsx\", nrows = total_sentences)\n",
    "\n",
    "\n",
    "# What proportion of the sentences will be used for the test set\n",
    "test_proportion = 0.3\n",
    "train_test_threshold = int( (1-test_proportion) * total_sentences)\n",
    "\n",
    "printmd(f'## {total_sentences} \"parallel sentences\" will be loaded (original sentence + its translation)')\n",
    "printmd(f'## {train_test_threshold} \"parallel sentences\" will be used to train the model')\n",
    "printmd(f'## {total_sentences-train_test_threshold} \"parallel sentences\" will be used to test the model')"
   ]
  },
  {
   "cell_type": "code",
   "execution_count": 4,
   "metadata": {
    "colab": {
     "base_uri": "https://localhost:8080/",
     "height": 363
    },
    "id": "PPboOxIaDy6X",
    "outputId": "a4414520-f2fb-43c1-bb55-869ef399b5d4"
   },
   "outputs": [
    {
     "data": {
      "text/html": [
       "\n",
       "  <div id=\"df-3f149e32-f7b4-488c-a737-9fdccd67b972\">\n",
       "    <div class=\"colab-df-container\">\n",
       "      <div>\n",
       "<style scoped>\n",
       "    .dataframe tbody tr th:only-of-type {\n",
       "        vertical-align: middle;\n",
       "    }\n",
       "\n",
       "    .dataframe tbody tr th {\n",
       "        vertical-align: top;\n",
       "    }\n",
       "\n",
       "    .dataframe thead th {\n",
       "        text-align: right;\n",
       "    }\n",
       "</style>\n",
       "<table border=\"1\" class=\"dataframe\">\n",
       "  <thead>\n",
       "    <tr style=\"text-align: right;\">\n",
       "      <th></th>\n",
       "      <th>English</th>\n",
       "      <th>PSL</th>\n",
       "    </tr>\n",
       "  </thead>\n",
       "  <tbody>\n",
       "    <tr>\n",
       "      <th>42870</th>\n",
       "      <td>The chief was deciding to be a good man.</td>\n",
       "      <td>Was The chief be a good man decides to now.</td>\n",
       "    </tr>\n",
       "    <tr>\n",
       "      <th>3261</th>\n",
       "      <td>I have an orange and an apple.</td>\n",
       "      <td>I an orange an apple have.</td>\n",
       "    </tr>\n",
       "    <tr>\n",
       "      <th>73922</th>\n",
       "      <td>I had hoped to meet her there.</td>\n",
       "      <td>was I there her meet hope full.</td>\n",
       "    </tr>\n",
       "    <tr>\n",
       "      <th>84184</th>\n",
       "      <td>I know that Shazim is agnostic.</td>\n",
       "      <td>I know that Shazim agnostic.</td>\n",
       "    </tr>\n",
       "    <tr>\n",
       "      <th>79760</th>\n",
       "      <td>He is a director and should be treated as such.</td>\n",
       "      <td>He director such treat.</td>\n",
       "    </tr>\n",
       "    <tr>\n",
       "      <th>61886</th>\n",
       "      <td>I can not believe Anees said yes.</td>\n",
       "      <td>I believe not was Anees say.</td>\n",
       "    </tr>\n",
       "    <tr>\n",
       "      <th>65728</th>\n",
       "      <td>Waasif did not follow the rules.</td>\n",
       "      <td>was Waasif rules follow not.</td>\n",
       "    </tr>\n",
       "    <tr>\n",
       "      <th>36340</th>\n",
       "      <td>It sounds very strange to me.</td>\n",
       "      <td>It me very strange sounds.</td>\n",
       "    </tr>\n",
       "    <tr>\n",
       "      <th>4064</th>\n",
       "      <td>Balam took off his belt.</td>\n",
       "      <td>was Balam his belt take off.</td>\n",
       "    </tr>\n",
       "    <tr>\n",
       "      <th>24879</th>\n",
       "      <td>We have just got to keep going.</td>\n",
       "      <td>We just go keep get full.</td>\n",
       "    </tr>\n",
       "  </tbody>\n",
       "</table>\n",
       "</div>\n",
       "      <button class=\"colab-df-convert\" onclick=\"convertToInteractive('df-3f149e32-f7b4-488c-a737-9fdccd67b972')\"\n",
       "              title=\"Convert this dataframe to an interactive table.\"\n",
       "              style=\"display:none;\">\n",
       "        \n",
       "  <svg xmlns=\"http://www.w3.org/2000/svg\" height=\"24px\"viewBox=\"0 0 24 24\"\n",
       "       width=\"24px\">\n",
       "    <path d=\"M0 0h24v24H0V0z\" fill=\"none\"/>\n",
       "    <path d=\"M18.56 5.44l.94 2.06.94-2.06 2.06-.94-2.06-.94-.94-2.06-.94 2.06-2.06.94zm-11 1L8.5 8.5l.94-2.06 2.06-.94-2.06-.94L8.5 2.5l-.94 2.06-2.06.94zm10 10l.94 2.06.94-2.06 2.06-.94-2.06-.94-.94-2.06-.94 2.06-2.06.94z\"/><path d=\"M17.41 7.96l-1.37-1.37c-.4-.4-.92-.59-1.43-.59-.52 0-1.04.2-1.43.59L10.3 9.45l-7.72 7.72c-.78.78-.78 2.05 0 2.83L4 21.41c.39.39.9.59 1.41.59.51 0 1.02-.2 1.41-.59l7.78-7.78 2.81-2.81c.8-.78.8-2.07 0-2.86zM5.41 20L4 18.59l7.72-7.72 1.47 1.35L5.41 20z\"/>\n",
       "  </svg>\n",
       "      </button>\n",
       "      \n",
       "  <style>\n",
       "    .colab-df-container {\n",
       "      display:flex;\n",
       "      flex-wrap:wrap;\n",
       "      gap: 12px;\n",
       "    }\n",
       "\n",
       "    .colab-df-convert {\n",
       "      background-color: #E8F0FE;\n",
       "      border: none;\n",
       "      border-radius: 50%;\n",
       "      cursor: pointer;\n",
       "      display: none;\n",
       "      fill: #1967D2;\n",
       "      height: 32px;\n",
       "      padding: 0 0 0 0;\n",
       "      width: 32px;\n",
       "    }\n",
       "\n",
       "    .colab-df-convert:hover {\n",
       "      background-color: #E2EBFA;\n",
       "      box-shadow: 0px 1px 2px rgba(60, 64, 67, 0.3), 0px 1px 3px 1px rgba(60, 64, 67, 0.15);\n",
       "      fill: #174EA6;\n",
       "    }\n",
       "\n",
       "    [theme=dark] .colab-df-convert {\n",
       "      background-color: #3B4455;\n",
       "      fill: #D2E3FC;\n",
       "    }\n",
       "\n",
       "    [theme=dark] .colab-df-convert:hover {\n",
       "      background-color: #434B5C;\n",
       "      box-shadow: 0px 1px 3px 1px rgba(0, 0, 0, 0.15);\n",
       "      filter: drop-shadow(0px 1px 2px rgba(0, 0, 0, 0.3));\n",
       "      fill: #FFFFFF;\n",
       "    }\n",
       "  </style>\n",
       "\n",
       "      <script>\n",
       "        const buttonEl =\n",
       "          document.querySelector('#df-3f149e32-f7b4-488c-a737-9fdccd67b972 button.colab-df-convert');\n",
       "        buttonEl.style.display =\n",
       "          google.colab.kernel.accessAllowed ? 'block' : 'none';\n",
       "\n",
       "        async function convertToInteractive(key) {\n",
       "          const element = document.querySelector('#df-3f149e32-f7b4-488c-a737-9fdccd67b972');\n",
       "          const dataTable =\n",
       "            await google.colab.kernel.invokeFunction('convertToInteractive',\n",
       "                                                     [key], {});\n",
       "          if (!dataTable) return;\n",
       "\n",
       "          const docLinkHtml = 'Like what you see? Visit the ' +\n",
       "            '<a target=\"_blank\" href=https://colab.research.google.com/notebooks/data_table.ipynb>data table notebook</a>'\n",
       "            + ' to learn more about interactive tables.';\n",
       "          element.innerHTML = '';\n",
       "          dataTable['output_type'] = 'display_data';\n",
       "          await google.colab.output.renderOutput(dataTable, element);\n",
       "          const docLink = document.createElement('div');\n",
       "          docLink.innerHTML = docLinkHtml;\n",
       "          element.appendChild(docLink);\n",
       "        }\n",
       "      </script>\n",
       "    </div>\n",
       "  </div>\n",
       "  "
      ],
      "text/plain": [
       "                                               English  \\\n",
       "42870         The chief was deciding to be a good man.   \n",
       "3261                    I have an orange and an apple.   \n",
       "73922                   I had hoped to meet her there.   \n",
       "84184                  I know that Shazim is agnostic.   \n",
       "79760  He is a director and should be treated as such.   \n",
       "61886                I can not believe Anees said yes.   \n",
       "65728                 Waasif did not follow the rules.   \n",
       "36340                    It sounds very strange to me.   \n",
       "4064                          Balam took off his belt.   \n",
       "24879                  We have just got to keep going.   \n",
       "\n",
       "                                               PSL  \n",
       "42870  Was The chief be a good man decides to now.  \n",
       "3261                    I an orange an apple have.  \n",
       "73922              was I there her meet hope full.  \n",
       "84184                 I know that Shazim agnostic.  \n",
       "79760                      He director such treat.  \n",
       "61886                 I believe not was Anees say.  \n",
       "65728                 was Waasif rules follow not.  \n",
       "36340                   It me very strange sounds.  \n",
       "4064                  was Balam his belt take off.  \n",
       "24879                    We just go keep get full.  "
      ]
     },
     "execution_count": 4,
     "metadata": {},
     "output_type": "execute_result"
    }
   ],
   "source": [
    "# Shuffle the dataset\n",
    "dataset = dataset.sample(frac=1, random_state=0)\n",
    "dataset.iloc[1000:1010]"
   ]
  },
  {
   "cell_type": "code",
   "execution_count": 5,
   "metadata": {
    "id": "MuawPO0hDy8-"
   },
   "outputs": [],
   "source": [
    "def clean(string):\n",
    "    # Clean the string\n",
    "    string = string.replace(\"\\u202f\",\" \") # Replace no-break space with space\n",
    "    string = string.lower()\n",
    "    \n",
    "    # Delete the punctuation and the numbers\n",
    "    for p in punctuation + \"«»\" + \"0123456789\":\n",
    "        string = string.replace(p,\" \")\n",
    "        \n",
    "        \n",
    "    string = re.sub('\\s+',' ', string)\n",
    "    string = string.strip()\n",
    "           \n",
    "    return string\n",
    "\n",
    "# Clean the sentences\n",
    "dataset[\"English\"] = dataset[\"English\"].apply(lambda x: clean(x))\n",
    "dataset[\"PSL\"] = dataset[\"PSL\"].apply(lambda x: clean(x))\n",
    "\n",
    "# Select one part of the dataset\n",
    "dataset = dataset.values\n",
    "dataset = dataset[:total_sentences]\n",
    "\n",
    "# split into train/test\n",
    "train, test = dataset[:train_test_threshold], dataset[train_test_threshold:]\n",
    "\n",
    "# Define the name of the source and of the target\n",
    "# This will be used in the outputs of this notebook\n",
    "source_str, target_str = \"English\", \"PSL\"\n",
    "\n",
    "# The index in the numpy array of the source and of the target\n",
    "idx_src, idx_tar = 0,1"
   ]
  },
  {
   "cell_type": "code",
   "execution_count": 6,
   "metadata": {
    "colab": {
     "base_uri": "https://localhost:8080/",
     "height": 116
    },
    "id": "36ZuEnBMDy_Q",
    "outputId": "59f8452c-9f82-42b9-d95c-579ccd898d31"
   },
   "outputs": [
    {
     "data": {
      "text/markdown": [
       "\n",
       "Target (PSL) Vocabulary Size: 8089"
      ],
      "text/plain": [
       "<IPython.core.display.Markdown object>"
      ]
     },
     "metadata": {},
     "output_type": "display_data"
    },
    {
     "data": {
      "text/markdown": [
       "Target (PSL) Max Length: 14"
      ],
      "text/plain": [
       "<IPython.core.display.Markdown object>"
      ]
     },
     "metadata": {},
     "output_type": "display_data"
    },
    {
     "data": {
      "text/markdown": [
       "\n",
       "Source (English) Vocabulary Size: 9256"
      ],
      "text/plain": [
       "<IPython.core.display.Markdown object>"
      ]
     },
     "metadata": {},
     "output_type": "display_data"
    },
    {
     "data": {
      "text/markdown": [
       "Source (English) Max Length: 12\n"
      ],
      "text/plain": [
       "<IPython.core.display.Markdown object>"
      ]
     },
     "metadata": {},
     "output_type": "display_data"
    }
   ],
   "source": [
    "def create_tokenizer(lines):\n",
    "    # fit a tokenizer\n",
    "    tokenizer = Tokenizer()\n",
    "    tokenizer.fit_on_texts(lines)\n",
    "    return tokenizer\n",
    " \n",
    "def max_len(lines):\n",
    "    # max sentence length\n",
    "    return max(len(line.split()) for line in lines)\n",
    "\n",
    "def encode_sequences(tokenizer, length, lines):\n",
    "    # encode and pad sequences\n",
    "    X = tokenizer.texts_to_sequences(lines) # integer encode sequences\n",
    "    X = pad_sequences(X, maxlen=length, padding='post') # pad sequences with 0 values\n",
    "    return X\n",
    " \n",
    "def encode_output(sequences, vocab_size):\n",
    "    # one hot encode target sequence\n",
    "    ylist = list()\n",
    "    for sequence in sequences:\n",
    "        encoded = to_categorical(sequence, num_classes=vocab_size)\n",
    "        ylist.append(encoded)\n",
    "    y = np.array(ylist)\n",
    "    y = y.reshape(sequences.shape[0], sequences.shape[1], vocab_size)\n",
    "    return y\n",
    " \n",
    "# Prepare target tokenizer\n",
    "tar_tokenizer = create_tokenizer(dataset[:, idx_tar])\n",
    "tar_vocab_size = len(tar_tokenizer.word_index) + 1\n",
    "tar_length = max_len(dataset[:, idx_tar])\n",
    "printmd(f'\\nTarget ({target_str}) Vocabulary Size: {tar_vocab_size}')\n",
    "printmd(f'Target ({target_str}) Max Length: {tar_length}')\n",
    "\n",
    "# Prepare source tokenizer\n",
    "src_tokenizer = create_tokenizer(dataset[:, idx_src])\n",
    "src_vocab_size = len(src_tokenizer.word_index) + 1\n",
    "src_length = max_len(dataset[:, idx_src])\n",
    "printmd(f'\\nSource ({source_str}) Vocabulary Size: {src_vocab_size}')\n",
    "printmd(f'Source ({source_str}) Max Length: {src_length}\\n')\n",
    " \n"
   ]
  },
  {
   "cell_type": "code",
   "execution_count": 7,
   "metadata": {
    "id": "FGKqNIDiTZZg"
   },
   "outputs": [],
   "source": [
    "# Prepare training data (we can train data 10,000 because we are using free colab resource it is not able to train whole data.)\n",
    "\n",
    "trainX = encode_sequences(src_tokenizer, src_length, train[56000:59654,idx_src])\n",
    "trainY = encode_sequences(tar_tokenizer, tar_length, train[56000:59654,idx_tar])\n",
    "trainY = encode_output(trainY, tar_vocab_size)"
   ]
  },
  {
   "cell_type": "markdown",
   "metadata": {},
   "source": [
    "## Glove Embedding"
   ]
  },
  {
   "cell_type": "code",
   "execution_count": 8,
   "metadata": {
    "id": "Kl0qeXwJBC59"
   },
   "outputs": [],
   "source": [
    "# load embeding for text file\n",
    "embeddings_index = dict()\n",
    "f = open('/content/drive/MyDrive/Saved Models/glove.6B.300d.txt')\n",
    "\n",
    "for line in f:\n",
    "    values = line.split()\n",
    "    word = values[0]\n",
    "    coefs = np.asarray(values[1:], dtype='float32')\n",
    "    embeddings_index[word] = coefs\n",
    "f.close()\n",
    "print('Loaded %s word vectors.' % len(embeddings_index))"
   ]
  },
  {
   "cell_type": "code",
   "execution_count": 9,
   "metadata": {
    "id": "bwnbu08EBDap"
   },
   "outputs": [],
   "source": [
    "dims=300\n",
    "flag=1\n",
    "word_index = {w: i for i, w in enumerate(embeddings_index, 1)}\n",
    "embedding_matrix = np.zeros((len(word_index)+1, dims))\n",
    "for word, i in word_index.items():\n",
    "    embedding_vector = embeddings_index.get(word)\n",
    "    if embedding_vector is not None:\n",
    "        # words not found in embedding index will be all-zeros.\n",
    "        embedding_matrix[i] = embedding_vector[:dims]\n",
    "        "
   ]
  },
  {
   "cell_type": "code",
   "execution_count": 10,
   "metadata": {
    "id": "6-fW7Ah2DzJd"
   },
   "outputs": [],
   "source": [
    "def create_model(src_vocab, tar_vocab, src_timesteps, tar_timesteps, n_units):\n",
    "    # Create the model\n",
    "    model = Sequential()\n",
    "    model.add(Embedding(embedding_matrix.shape[0],embedding_matrix.shape[1],weights=[embedding_matrix],input_length=src_timesteps,trainable=False))\n",
    "    model.add(GRU(n_units))\n",
    "    model.add(RepeatVector(tar_timesteps))\n",
    "    model.add(Dropout(0.1))\n",
    "    model.add(GRU(n_units, return_sequences=True))\n",
    "\n",
    "    model.add(TimeDistributed(Dense(tar_vocab, activation='sigmoid')))\n",
    "    return model\n",
    " "
   ]
  },
  {
   "cell_type": "code",
   "execution_count": 11,
   "metadata": {
    "id": "LkX2tYRKDzMF"
   },
   "outputs": [],
   "source": [
    "# Create model\n",
    "model = create_model(src_vocab_size, tar_vocab_size, src_length, tar_length, 256)\n",
    "model.compile(optimizer='adam', loss='categorical_crossentropy')"
   ]
  },
  {
   "cell_type": "code",
   "execution_count": 12,
   "metadata": {
    "id": "oi3a50CTDzPA"
   },
   "outputs": [],
   "source": [
    "history = model.fit(trainX, \n",
    "          trainY, \n",
    "          epochs=100, \n",
    "          batch_size=64, \n",
    "          validation_split=0.1, \n",
    "          verbose=1,\n",
    "          callbacks=[\n",
    "                        EarlyStopping(\n",
    "                        monitor='val_loss',\n",
    "                        patience=10,\n",
    "                        restore_best_weights=True\n",
    "                    )\n",
    "            ])"
   ]
  },
  {
   "cell_type": "code",
   "execution_count": 13,
   "metadata": {
    "id": "wESQRtRvDzSF"
   },
   "outputs": [],
   "source": [
    "model.save('/content/drive/MyDrive/reverse fyp/bilstm results/ENG_TO_PSL_gru_bs64_golvee_embedding.h5')"
   ]
  },
  {
   "cell_type": "code",
   "execution_count": 12,
   "metadata": {
    "id": "LHfyg-fHDzUo"
   },
   "outputs": [],
   "source": [
    "from tensorflow import keras\n",
    "model = keras.models.load_model('/content/drive/MyDrive/reverse fyp/bilstm results/ENG_TO_PSL_gru_bs64_golvee_embedding.h5')"
   ]
  },
  {
   "cell_type": "code",
   "execution_count": 8,
   "metadata": {
    "colab": {
     "base_uri": "https://localhost:8080/",
     "height": 754
    },
    "id": "pPzY-CJspxxI",
    "outputId": "dccd6ca6-431c-4d3c-d589-fad1dc10f4a9"
   },
   "outputs": [
    {
     "data": {
      "image/png": "[encoded data removed]",
      "text/plain": [
       "<IPython.core.display.Image object>"
      ]
     },
     "execution_count": 8,
     "metadata": {},
     "output_type": "execute_result"
    }
   ],
   "source": [
    "from tensorflow.keras.utils import plot_model\n",
    "plot_model(model,show_shapes=True,show_layer_activations=True,show_layer_names=True)"
   ]
  },
  {
   "cell_type": "code",
   "execution_count": 9,
   "metadata": {
    "colab": {
     "base_uri": "https://localhost:8080/"
    },
    "id": "u0pYBWFFDzXl",
    "outputId": "e43cc07b-7170-4f51-c74c-e6c7bf747fac"
   },
   "outputs": [
    {
     "name": "stdout",
     "output_type": "stream",
     "text": [
      "Model: \"sequential\"\n",
      "_________________________________________________________________\n",
      " Layer (type)                Output Shape              Param #   \n",
      "=================================================================\n",
      " embedding (Embedding)       (None, 12, 300)           120000300 \n",
      "                                                                 \n",
      " gru (GRU)                   (None, 256)               428544    \n",
      "                                                                 \n",
      " repeat_vector (RepeatVector  (None, 14, 256)          0         \n",
      " )                                                               \n",
      "                                                                 \n",
      " dropout (Dropout)           (None, 14, 256)           0         \n",
      "                                                                 \n",
      " gru_1 (GRU)                 (None, 14, 256)           394752    \n",
      "                                                                 \n",
      " time_distributed (TimeDistr  (None, 14, 8089)         2078873   \n",
      " ibuted)                                                         \n",
      "                                                                 \n",
      "=================================================================\n",
      "Total params: 122,902,469\n",
      "Trainable params: 2,902,169\n",
      "Non-trainable params: 120,000,300\n",
      "_________________________________________________________________\n"
     ]
    }
   ],
   "source": [
    "model.summary()"
   ]
  },
  {
   "cell_type": "markdown",
   "metadata": {
    "id": "2w-SKzADDzc8"
   },
   "source": [
    "### Testing Phase"
   ]
  },
  {
   "cell_type": "markdown",
   "metadata": {
    "id": "bm9ZDkVmE3Qn"
   },
   "source": [
    "#### First 10000"
   ]
  },
  {
   "cell_type": "code",
   "execution_count": 13,
   "metadata": {
    "id": "EqFwlwu7Dzfj"
   },
   "outputs": [],
   "source": [
    "# Prepare test data\n",
    "testX = encode_sequences(src_tokenizer, src_length, test[20000:25567, idx_src])\n",
    "testY = encode_sequences(tar_tokenizer, tar_length, test[20000:25567, idx_tar])\n",
    "testY = encode_output(testY, tar_vocab_size)"
   ]
  },
  {
   "cell_type": "code",
   "execution_count": 19,
   "metadata": {
    "colab": {
     "base_uri": "https://localhost:8080/"
    },
    "id": "OtkxCoAADzie",
    "outputId": "2e30a3d8-79af-4349-c49e-f9cd09f074c8"
   },
   "outputs": [
    {
     "name": "stdout",
     "output_type": "stream",
     "text": [
      "\n",
      "\n",
      "### Result on the Test Set ###\n",
      "ENGLISH (SOURCE)               PSL (TARGET)              AUTOMATIC TRANSLATION IN PSL\n",
      "\n",
      "she had cooked food            was she food cook full    was she food cook full\n",
      "i did not tell them            was i them tell not       was i them hurt not\n",
      "i feel stupid                  i stupid feel             i stupid feel\n",
      "ranjhoo will like it           ranjhoo it like after     ranjhoo it do after\n",
      "they did not obey their parents was they their parents obey not was they their parents ask not\n",
      "hello                          hello                     hello\n",
      "i have eight brothers and sisters i brothers sisters have   i also bill watch have\n",
      "i am going to go now           i now go go now           i now go go now\n",
      "can i join in                  i join in yes no          i come yes yes\n",
      "it was important               was it important          was it important\n",
      "you have mail                  you mail full             you kid full\n",
      "everybody knows i hate you     everybody know i you hate everybody know i i hate\n",
      "i was totally into you         was i you totally         was i totally totally\n",
      "you got the part               was you part get          was you part get\n",
      "i handled it properly          was i it properly handle  was i it news\n",
      "javaid said that bakhtawar was not lucky was javaid say that was bakhtawar lucky not was javaid say that was bakhtawar lucky not\n",
      "waasif turned off the lamp     was waasif lamp turn off  was waasif turn turn off\n",
      "can we trust them              we them trust yes no      we them trust yes no\n",
      "my mother had not been sewing them was my mother them sew full now not was my mother them sew full now not\n",
      "the kitten had been drinking milk was kitten milk drink full now was driver milk drink full now\n",
      "husnain wanted to drink champagne was husnain champagne drink want was husnain you want want\n"
     ]
    }
   ],
   "source": [
    "def word_for_id(integer, tokenizer):\n",
    "    # map an integer to a word\n",
    "    for word, index in tokenizer.word_index.items():\n",
    "        if index == integer:\n",
    "            return word\n",
    "    return None\n",
    " \n",
    "def predict_seq(model, tokenizer, source):\n",
    "    # generate target from a source sequence\n",
    "    prediction = model.predict(source, verbose=0)[0]\n",
    "    integers = [np.argmax(vector) for vector in prediction]\n",
    "    target = list()\n",
    "    \n",
    "    for i in integers:\n",
    "        word = word_for_id(i, tokenizer)\n",
    "        if word is None:\n",
    "            break\n",
    "        target.append(word)\n",
    "    return ' '.join(target)\n",
    "\n",
    "def compare_prediction(model, tokenizer, sources, raw_dataset, limit=20):\n",
    "    # evaluate a model\n",
    "    actual, predicted = [], []\n",
    "    src = f'{source_str.upper()} (SOURCE)'\n",
    "    tgt = f'{target_str.upper()} (TARGET)'\n",
    "    pred = f'AUTOMATIC TRANSLATION IN {target_str.upper()}'\n",
    "    print(f'{src:30} {tgt:25} {pred}\\n')\n",
    "    \n",
    "    for i, source in enumerate(sources): # translate encoded source text\n",
    "        source = source.reshape((1, source.shape[0]))\n",
    "        translation = predict_seq(model, tar_tokenizer, source)\n",
    "        raw_src,raw_target = raw_dataset[i]\n",
    "        print(f'{raw_src:30} {raw_target:25} {translation}')\n",
    "        if i >= limit: # Display some of the result\n",
    "            break\n",
    " \n",
    "# test on some training sequences\n",
    "# print('### Result on the Training Set ###')\n",
    "# compare_prediction(model, tar_tokenizer, trainX, train)\n",
    "\n",
    "# test on some test sequences\n",
    "print('\\n\\n### Result on the Test Set ###')\n",
    "compare_prediction(model, tar_tokenizer, testX,test[:10000,:])"
   ]
  },
  {
   "cell_type": "markdown",
   "metadata": {
    "id": "ozT5FBC6DzlT"
   },
   "source": [
    "### Bleu Score"
   ]
  },
  {
   "cell_type": "code",
   "execution_count": 20,
   "metadata": {
    "id": "mb_CZUuWDzoJ"
   },
   "outputs": [],
   "source": [
    "def bleu_score(model, tokenizer, sources, raw_dataset):\n",
    "    # Get the bleu score of a model\n",
    "    actual, predicted = [], []\n",
    "    for i, source in enumerate(sources):\n",
    "        # translate encoded source text\n",
    "        source = source.reshape((1, source.shape[0]))\n",
    "        translation = predict_seq(model, tar_tokenizer, source)\n",
    "        raw_src,raw_target = raw_dataset[i]\n",
    "        actual.append([raw_target.split()])\n",
    "        predicted.append(translation.split())\n",
    "        \n",
    "    bleu_dic = {}\n",
    "    bleu_dic['1-grams'] = corpus_bleu(actual, predicted, weights=(1.0, 0, 0, 0))\n",
    "    bleu_dic['1-2-grams'] = corpus_bleu(actual, predicted, weights=(0.5, 0.5, 0, 0))\n",
    "    bleu_dic['1-3-grams'] = corpus_bleu(actual, predicted, weights=(0.3, 0.3, 0.3, 0))\n",
    "    bleu_dic['1-4-grams'] = corpus_bleu(actual, predicted, weights=(0.25, 0.25, 0.25, 0.25))\n",
    "    \n",
    "    return bleu_dic\n",
    "\n",
    "# Compute the BLEU Score\n",
    "# bleu_train = bleu_score(model, tar_tokenizer, trainX, train)\n",
    "bleu_test = bleu_score(model, tar_tokenizer, testX, test[:10000,:])"
   ]
  },
  {
   "cell_type": "code",
   "execution_count": 21,
   "metadata": {
    "colab": {
     "base_uri": "https://localhost:8080/",
     "height": 281
    },
    "id": "dKGHUAYZDzrO",
    "outputId": "3445c1fe-9e98-4b25-ce36-6e8d8c46462a"
   },
   "outputs": [
    {
     "data": {
      "image/png": "[encoded data removed]",
      "text/plain": [
       "<Figure size 432x288 with 1 Axes>"
      ]
     },
     "metadata": {
      "needs_background": "light"
     },
     "output_type": "display_data"
    }
   ],
   "source": [
    "plt.bar(x = bleu_test.keys(), height = bleu_test.values())\n",
    "plt.title(\"BLEU Score with the first 10000 test set\")\n",
    "plt.ylim((0,1))\n",
    "plt.show()"
   ]
  },
  {
   "cell_type": "code",
   "execution_count": 22,
   "metadata": {
    "colab": {
     "base_uri": "https://localhost:8080/"
    },
    "id": "M6kJO172Dzul",
    "outputId": "ebb7acbe-f2e4-48ee-f7a9-2a6e9dfbbd3e"
   },
   "outputs": [
    {
     "name": "stdout",
     "output_type": "stream",
     "text": [
      "{'1-grams': 0.7618517894108026, '1-2-grams': 0.6482386674164552, '1-3-grams': 0.5871550556280509, '1-4-grams': 0.48524625343031313}\n"
     ]
    }
   ],
   "source": [
    "print(bleu_test)"
   ]
  },
  {
   "cell_type": "markdown",
   "metadata": {},
   "source": [
    "## WER"
   ]
  },
  {
   "cell_type": "code",
   "execution_count": 24,
   "metadata": {
    "colab": {
     "base_uri": "https://localhost:8080/"
    },
    "id": "Rmz6fVRVDzxo",
    "outputId": "8bff3908-a0ed-472c-9ec4-3454f2e02b9e"
   },
   "outputs": [
    {
     "name": "stdout",
     "output_type": "stream",
     "text": [
      "Looking in indexes: https://pypi.org/simple, https://us-python.pkg.dev/colab-wheels/public/simple/\n",
      "Requirement already satisfied: jiwer in /usr/local/lib/python3.7/dist-packages (2.3.0)\n",
      "Requirement already satisfied: python-Levenshtein==0.12.2 in /usr/local/lib/python3.7/dist-packages (from jiwer) (0.12.2)\n",
      "Requirement already satisfied: setuptools in /usr/local/lib/python3.7/dist-packages (from python-Levenshtein==0.12.2->jiwer) (57.4.0)\n",
      "\n",
      "\n",
      "### Result on the Test Set ###\n"
     ]
    }
   ],
   "source": [
    "!pip install jiwer\n",
    "def word_for_id(integer, tokenizer):\n",
    "    # map an integer to a word\n",
    "    for word, index in tokenizer.word_index.items():\n",
    "        if index == integer:\n",
    "            return word\n",
    "    return None\n",
    " \n",
    "def predict_seq(model, tokenizer, source):\n",
    "    # generate target from a source sequence\n",
    "    prediction = model.predict(source, verbose=0)[0]\n",
    "    integers = [np.argmax(vector) for vector in prediction]\n",
    "    target = list()\n",
    "    \n",
    "    for i in integers:\n",
    "        word = word_for_id(i, tokenizer)\n",
    "        if word is None:\n",
    "            break\n",
    "        target.append(word)\n",
    "    return ' '.join(target)\n",
    "\n",
    "def compare_prediction(model, tokenizer, sources, raw_dataset, limit=20):\n",
    "    # evaluate a model\n",
    "    actual, predicted = [], []\n",
    "    src = f'{source_str.upper()} (SOURCE)'\n",
    "    tgt = f'{target_str.upper()} (TARGET)'\n",
    "    pred = f'AUTOMATIC TRANSLATION IN {target_str.upper()}'\n",
    "    #print(f'{src:30} {tgt:25} {pred}\\n')\n",
    "    \n",
    "    for i, source in enumerate(sources): # translate encoded source text\n",
    "        source = source.reshape((1, source.shape[0]))\n",
    "        translation = predict_seq(model, tar_tokenizer, source)\n",
    "        raw_src,raw_target = raw_dataset[i]\n",
    "        #print(f'{raw_src:30} {raw_target:25} {translation}')\n",
    "        #print(translation)     #predicit\n",
    "        #print(raw_target)      #actual\n",
    "        actual.append(raw_target)\n",
    "        predicted.append(translation)\n",
    "        if i >= limit: # Display some of the result\n",
    "            return actual,predicted\n",
    "            break\n",
    " \n",
    "# # test on some training sequences!pip install jiwer\n",
    "# print('### Result on the Training Set ###')\n",
    "# compare_prediction(model, tar_tokenizer, trainX, train)\n",
    "\n",
    "# test on some test sequences\n",
    "print('\\n\\n### Result on the Test Set ###')\n",
    "Actual,Predicted=compare_prediction(model, tar_tokenizer, testX,test[:10000,:])"
   ]
  },
  {
   "cell_type": "code",
   "execution_count": 25,
   "metadata": {
    "colab": {
     "base_uri": "https://localhost:8080/"
    },
    "id": "CGXihmwrDz1b",
    "outputId": "77a4afd7-a886-41d9-f3f4-72c865abf0ae"
   },
   "outputs": [
    {
     "data": {
      "text/plain": [
       "0.18181818181818182"
      ]
     },
     "execution_count": 25,
     "metadata": {},
     "output_type": "execute_result"
    }
   ],
   "source": [
    "from jiwer import wer\n",
    "error=wer(Actual,Predicted)\n",
    "error"
   ]
  },
  {
   "cell_type": "markdown",
   "metadata": {
    "id": "-BxG_BrxDz4z"
   },
   "source": [
    "### TER"
   ]
  },
  {
   "cell_type": "code",
   "execution_count": 26,
   "metadata": {
    "colab": {
     "base_uri": "https://localhost:8080/"
    },
    "id": "y9bjkihTEsLJ",
    "outputId": "1436a93f-9624-4b21-fb4b-8fae2b4e8c43"
   },
   "outputs": [
    {
     "name": "stdout",
     "output_type": "stream",
     "text": [
      "Looking in indexes: https://pypi.org/simple, https://us-python.pkg.dev/colab-wheels/public/simple/\n",
      "Requirement already satisfied: pyter3 in /usr/local/lib/python3.7/dist-packages (0.3)\n"
     ]
    }
   ],
   "source": [
    "!pip install pyter3\n",
    "import pyter"
   ]
  },
  {
   "cell_type": "code",
   "execution_count": 27,
   "metadata": {
    "colab": {
     "base_uri": "https://localhost:8080/"
    },
    "id": "xfEEvQsLEsO2",
    "outputId": "f1799cde-c7c6-4586-d992-436dbc38eeed"
   },
   "outputs": [
    {
     "data": {
      "text/plain": [
       "0.1912698412698413"
      ]
     },
     "execution_count": 27,
     "metadata": {},
     "output_type": "execute_result"
    }
   ],
   "source": [
    "i=0\n",
    "sum=0\n",
    "while i<len(Actual):\n",
    "  #print(pyter.ter(Actual[i].split(),Predicted[i].split()))\n",
    "  sum+=pyter.ter(Actual[i].split(),Predicted[i].split())\n",
    "  i=i+1\n",
    "\n",
    "\n",
    "\n",
    "sum=sum/len(Actual)\n",
    "sum"
   ]
  },
  {
   "cell_type": "markdown",
   "metadata": {
    "id": "RW0328kCEsQj"
   },
   "source": [
    "#### 2nd 10000"
   ]
  },
  {
   "cell_type": "code",
   "execution_count": 16,
   "metadata": {
    "colab": {
     "base_uri": "https://localhost:8080/"
    },
    "id": "YSD22H4jEsTN",
    "outputId": "f481717f-7334-4d8c-f351-1576e22e6e15"
   },
   "outputs": [
    {
     "name": "stdout",
     "output_type": "stream",
     "text": [
      "\n",
      "\n",
      "### Result on the Test Set ###\n",
      "ENGLISH (SOURCE)               PSL (TARGET)              AUTOMATIC TRANSLATION IN PSL\n",
      "\n",
      "salman was quite frustrated    was salman quite frustrate was salman quite look\n",
      "nihal showed me his new guitar was nihal his new guitar show was nihal his his me drive\n",
      "sajeel comes here every other week sajeel other week here come sajeel here here here need\n",
      "i changed direction            was i direction change    i i change\n",
      "i am glad that ranjhoo won     i glad that was ranjhoo win i glad was ranjhoo glad\n",
      "i will do whatever you want    i do after whatever you want i want want i i want\n",
      "i know when hassam is lying    i know when hassam lie now i know when when lie now\n",
      "he wishes to live his own way  he his own way live wish  was he his own own live live\n",
      "manan and his wife live in karachi manan his wife karachi live inaam khan his wife gun\n",
      "did he come home in the evening was he home come evening yes no was he home home evening yes no\n",
      "i was able to do it today      was i today able it do    was i able it do do\n",
      "i appreciate it a lot          i it a lot appreciate     i it a lot appreciate\n",
      "what did you charge            was you charge what       was you look what\n",
      "do you eat enchiladas          you enchiladas eat yes no you eat yes yes no\n",
      "we lost our way                was we our way lose       was we our lose lose\n",
      "arsh took control of the business was arsh business control take was arsh several business take\n",
      "will noun have been a naming word noun naming word full after yes no noun naming word full after yes yes\n",
      "i am not arresting faris       i faris arrest now not    i faris study now not\n",
      "make sure ranjhoo does not see you sure make ranjhoo you see not ahmad hear you you see not\n",
      "we met at two in the afternoon was we in afternoon at two meet was we meet high meet meet\n",
      "i did not want to bother you   was i you bother want not was i you bother want not\n"
     ]
    }
   ],
   "source": [
    "def word_for_id(integer, tokenizer):\n",
    "    # map an integer to a word\n",
    "    for word, index in tokenizer.word_index.items():\n",
    "        if index == integer:\n",
    "            return word\n",
    "    return None\n",
    " \n",
    "def predict_seq(model, tokenizer, source):\n",
    "    # generate target from a source sequence\n",
    "    prediction = model.predict(source, verbose=0)[0]\n",
    "    integers = [np.argmax(vector) for vector in prediction]\n",
    "    target = list()\n",
    "    \n",
    "    for i in integers:\n",
    "        word = word_for_id(i, tokenizer)\n",
    "        if word is None:\n",
    "            break\n",
    "        target.append(word)\n",
    "    return ' '.join(target)\n",
    "\n",
    "def compare_prediction(model, tokenizer, sources, raw_dataset, limit=20):\n",
    "    # evaluate a model\n",
    "    actual, predicted = [], []\n",
    "    src = f'{source_str.upper()} (SOURCE)'\n",
    "    tgt = f'{target_str.upper()} (TARGET)'\n",
    "    pred = f'AUTOMATIC TRANSLATION IN {target_str.upper()}'\n",
    "    print(f'{src:30} {tgt:25} {pred}\\n')\n",
    "    \n",
    "    for i, source in enumerate(sources): # translate encoded source text\n",
    "        source = source.reshape((1, source.shape[0]))\n",
    "        translation = predict_seq(model, tar_tokenizer, source)\n",
    "        raw_src,raw_target = raw_dataset[i]\n",
    "        print(f'{raw_src:30} {raw_target:25} {translation}')\n",
    "        if i >= limit: # Display some of the result\n",
    "            break\n",
    " \n",
    "# test on some training sequences\n",
    "# print('### Result on the Training Set ###')\n",
    "# compare_prediction(model, tar_tokenizer, trainX, train)\n",
    "\n",
    "# test on some test sequences\n",
    "print('\\n\\n### Result on the Test Set ###')\n",
    "compare_prediction(model, tar_tokenizer, testX, test[10000:20000,:])"
   ]
  },
  {
   "cell_type": "code",
   "execution_count": 17,
   "metadata": {
    "id": "7zcV6FYyEsVx"
   },
   "outputs": [],
   "source": [
    "def bleu_score(model, tokenizer, sources, raw_dataset):\n",
    "    # Get the bleu score of a model\n",
    "    actual, predicted = [], []\n",
    "    for i, source in enumerate(sources):\n",
    "        # translate encoded source text\n",
    "        source = source.reshape((1, source.shape[0]))\n",
    "        translation = predict_seq(model, tar_tokenizer, source)\n",
    "        raw_src,raw_target = raw_dataset[i]\n",
    "        actual.append([raw_target.split()])\n",
    "        predicted.append(translation.split())\n",
    "        \n",
    "    bleu_dic = {}\n",
    "    bleu_dic['1-grams'] = corpus_bleu(actual, predicted, weights=(1.0, 0, 0, 0))\n",
    "    bleu_dic['1-2-grams'] = corpus_bleu(actual, predicted, weights=(0.5, 0.5, 0, 0))\n",
    "    bleu_dic['1-3-grams'] = corpus_bleu(actual, predicted, weights=(0.3, 0.3, 0.3, 0))\n",
    "    bleu_dic['1-4-grams'] = corpus_bleu(actual, predicted, weights=(0.25, 0.25, 0.25, 0.25))\n",
    "    \n",
    "    return bleu_dic\n",
    "\n",
    "# Compute the BLEU Score\n",
    "# bleu_train = bleu_score(model, tar_tokenizer, trainX, train)\n",
    "bleu_test = bleu_score(model, tar_tokenizer, testX, test[10000:20000,:])"
   ]
  },
  {
   "cell_type": "code",
   "execution_count": 18,
   "metadata": {
    "colab": {
     "base_uri": "https://localhost:8080/",
     "height": 281
    },
    "id": "_7JjrEUrEsZR",
    "outputId": "65ba9b40-6ef5-4f8d-c43d-29436fa2a425"
   },
   "outputs": [
    {
     "data": {
      "image/png": "[encoded data removed]",
      "text/plain": [
       "<Figure size 432x288 with 1 Axes>"
      ]
     },
     "metadata": {
      "needs_background": "light"
     },
     "output_type": "display_data"
    }
   ],
   "source": [
    "plt.bar(x = bleu_test.keys(), height = bleu_test.values())\n",
    "plt.title(\"BLEU Score with 2nd 10000 test set\")\n",
    "plt.ylim((0,1))\n",
    "plt.show()"
   ]
  },
  {
   "cell_type": "code",
   "execution_count": 19,
   "metadata": {
    "colab": {
     "base_uri": "https://localhost:8080/"
    },
    "id": "pqWTRokUFLd6",
    "outputId": "7b67a803-b424-4524-b21b-46f4afcb6959"
   },
   "outputs": [
    {
     "name": "stdout",
     "output_type": "stream",
     "text": [
      "{'1-grams': 0.7573932805687797, '1-2-grams': 0.6416203015492598, '1-3-grams': 0.5790275881643868, '1-4-grams': 0.47624235087922306}\n"
     ]
    }
   ],
   "source": [
    "print(bleu_test)"
   ]
  },
  {
   "cell_type": "markdown",
   "metadata": {
    "id": "0u8tNMVzFOQt"
   },
   "source": [
    "### WER"
   ]
  },
  {
   "cell_type": "code",
   "execution_count": 27,
   "metadata": {
    "colab": {
     "base_uri": "https://localhost:8080/"
    },
    "id": "GpCEJIZdFOTW",
    "outputId": "6cb1613b-6183-4a98-dcf5-3e4361fa16c2"
   },
   "outputs": [
    {
     "name": "stdout",
     "output_type": "stream",
     "text": [
      "Looking in indexes: https://pypi.org/simple, https://us-python.pkg.dev/colab-wheels/public/simple/\n",
      "Requirement already satisfied: jiwer in /usr/local/lib/python3.7/dist-packages (2.3.0)\n",
      "Requirement already satisfied: python-Levenshtein==0.12.2 in /usr/local/lib/python3.7/dist-packages (from jiwer) (0.12.2)\n",
      "Requirement already satisfied: setuptools in /usr/local/lib/python3.7/dist-packages (from python-Levenshtein==0.12.2->jiwer) (57.4.0)\n",
      "\n",
      "\n",
      "### Result on the Test Set ###\n"
     ]
    }
   ],
   "source": [
    "!pip install jiwer\n",
    "def word_for_id(integer, tokenizer):\n",
    "    # map an integer to a word\n",
    "    for word, index in tokenizer.word_index.items():\n",
    "        if index == integer:\n",
    "            return word\n",
    "    return None\n",
    " \n",
    "def predict_seq(model, tokenizer, source):\n",
    "    # generate target from a source sequence\n",
    "    prediction = model.predict(source, verbose=0)[0]\n",
    "    integers = [np.argmax(vector) for vector in prediction]\n",
    "    target = list()\n",
    "    \n",
    "    for i in integers:\n",
    "        word = word_for_id(i, tokenizer)\n",
    "        if word is None:\n",
    "            break\n",
    "        target.append(word)\n",
    "    return ' '.join(target)\n",
    "\n",
    "def compare_prediction(model, tokenizer, sources, raw_dataset, limit=20):\n",
    "    # evaluate a model\n",
    "    actual, predicted = [], []\n",
    "    src = f'{source_str.upper()} (SOURCE)'\n",
    "    tgt = f'{target_str.upper()} (TARGET)'\n",
    "    pred = f'AUTOMATIC TRANSLATION IN {target_str.upper()}'\n",
    "    #print(f'{src:30} {tgt:25} {pred}\\n')\n",
    "    \n",
    "    for i, source in enumerate(sources): # translate encoded source text\n",
    "        source = source.reshape((1, source.shape[0]))\n",
    "        translation = predict_seq(model, tar_tokenizer, source)\n",
    "        raw_src,raw_target = raw_dataset[i]\n",
    "        #print(f'{raw_src:30} {raw_target:25} {translation}')\n",
    "        #print(translation)     #predicit\n",
    "        #print(raw_target)      #actual\n",
    "        actual.append(raw_target)\n",
    "        predicted.append(translation)\n",
    "        if i >= limit: # Display some of the result\n",
    "            return actual,predicted\n",
    "            break\n",
    " \n",
    "# # test on some training sequences!pip install jiwer\n",
    "# print('### Result on the Training Set ###')\n",
    "# compare_prediction(model, tar_tokenizer, trainX, train)\n",
    "\n",
    "# test on some test sequences\n",
    "print('\\n\\n### Result on the Test Set ###')\n",
    "Actual,Predicted=compare_prediction(model, tar_tokenizer, testX, test[10000:20000,:])"
   ]
  },
  {
   "cell_type": "code",
   "execution_count": 28,
   "metadata": {
    "colab": {
     "base_uri": "https://localhost:8080/"
    },
    "id": "Lig1wgNSFOV1",
    "outputId": "f17e40e6-10f2-4270-8d3f-b3244d914a76"
   },
   "outputs": [
    {
     "data": {
      "text/plain": [
       "0.35344827586206895"
      ]
     },
     "execution_count": 28,
     "metadata": {},
     "output_type": "execute_result"
    }
   ],
   "source": [
    "from jiwer import wer\n",
    "error=wer(Actual,Predicted)\n",
    "error"
   ]
  },
  {
   "cell_type": "markdown",
   "metadata": {
    "id": "zNRuTfkqFOYV"
   },
   "source": [
    "### TER"
   ]
  },
  {
   "cell_type": "code",
   "execution_count": 29,
   "metadata": {
    "colab": {
     "base_uri": "https://localhost:8080/"
    },
    "id": "lHHdum8YFObI",
    "outputId": "13e3dd38-1008-4665-f260-9b41d6923651"
   },
   "outputs": [
    {
     "name": "stdout",
     "output_type": "stream",
     "text": [
      "Looking in indexes: https://pypi.org/simple, https://us-python.pkg.dev/colab-wheels/public/simple/\n",
      "Requirement already satisfied: pyter3 in /usr/local/lib/python3.7/dist-packages (0.3)\n"
     ]
    }
   ],
   "source": [
    "!pip install pyter3\n",
    "import pyter"
   ]
  },
  {
   "cell_type": "code",
   "execution_count": 30,
   "metadata": {
    "colab": {
     "base_uri": "https://localhost:8080/"
    },
    "id": "sraAXM-mFOdm",
    "outputId": "e6b33004-97c6-405c-facf-f6c2b103ec5d"
   },
   "outputs": [
    {
     "data": {
      "text/plain": [
       "0.3673469387755103"
      ]
     },
     "execution_count": 30,
     "metadata": {},
     "output_type": "execute_result"
    }
   ],
   "source": [
    "i=0\n",
    "sum=0\n",
    "while i<len(Actual):\n",
    "  #print(pyter.ter(Actual[i].split(),Predicted[i].split()))\n",
    "  sum+=pyter.ter(Actual[i].split(),Predicted[i].split())\n",
    "  i=i+1\n",
    "\n",
    "\n",
    "\n",
    "sum=sum/len(Actual)\n",
    "sum"
   ]
  },
  {
   "cell_type": "markdown",
   "metadata": {
    "id": "8Fn9YPwJFOgP"
   },
   "source": [
    "### last 5567"
   ]
  },
  {
   "cell_type": "code",
   "execution_count": 14,
   "metadata": {
    "colab": {
     "base_uri": "https://localhost:8080/"
    },
    "id": "wbCwlXMJFOjN",
    "outputId": "146920f3-701c-47ec-bad4-839c2d92e3a2"
   },
   "outputs": [
    {
     "name": "stdout",
     "output_type": "stream",
     "text": [
      "\n",
      "\n",
      "### Result on the Test Set ###\n",
      "ENGLISH (SOURCE)               PSL (TARGET)              AUTOMATIC TRANSLATION IN PSL\n",
      "\n",
      "they are not helping old woman they old woman help now not they our woman help now not\n",
      "we had the chances             was we chances had        was we mistake had\n",
      "ashraf says i am too nosey     ashraf say i too nosey    ashraf say i too lucky\n",
      "i haven t thought much about it i it much think full not  i much much think full not\n",
      "i showed my room to zabhi      was i zabhi my room show  was i my room show show\n",
      "the fight did not last long    was fight long last not   was long long long not\n",
      "i think abbas wanted my help   i think was abbas my help want i think i i my help want\n",
      "it was real scary              was it real scary         was it real concern\n",
      "i like small towns             i small towns like        i enough uneasy like\n",
      "i was not wearing a uniform    was i uniform wear now not was i bath wear now not\n",
      "mahi is a good captain         mahi good captain         mahi good good\n",
      "i would rather not be busy     i rather busy be not      i rather busy be not\n",
      "he did not say so              was he so say not         was he so say not\n",
      "he arrived in time             was he time arrive        was he time arrive\n",
      "he is afraid of death          he death afraid           he afraid afraid\n",
      "amjad said he will call you later was amjad say he you later call after was amjad say he you home after\n",
      "i am sure you have many questions i sure you many questions have i sure you you you have\n",
      "huzaifa looked like he was happy was huzaifa look like was he happy was huzaifa look like was he happy\n",
      "they are drinking tea          they tea drink now        they tea drink now\n",
      "omer offered to buy daania a beer was omer daania beer buy offer was omer tree home buy buy\n",
      "i asked monun to wait for me   was i monun me wait ask   was i for wait wait ask\n"
     ]
    }
   ],
   "source": [
    "def word_for_id(integer, tokenizer):\n",
    "    # map an integer to a word\n",
    "    for word, index in tokenizer.word_index.items():\n",
    "        if index == integer:\n",
    "            return word\n",
    "    return None\n",
    " \n",
    "def predict_seq(model, tokenizer, source):\n",
    "    # generate target from a source sequence\n",
    "    prediction = model.predict(source, verbose=0)[0]\n",
    "    integers = [np.argmax(vector) for vector in prediction]\n",
    "    target = list()\n",
    "    \n",
    "    for i in integers:\n",
    "        word = word_for_id(i, tokenizer)\n",
    "        if word is None:\n",
    "            break\n",
    "        target.append(word)\n",
    "    return ' '.join(target)\n",
    "\n",
    "def compare_prediction(model, tokenizer, sources, raw_dataset, limit=20):\n",
    "    # evaluate a model\n",
    "    actual, predicted = [], []\n",
    "    src = f'{source_str.upper()} (SOURCE)'\n",
    "    tgt = f'{target_str.upper()} (TARGET)'\n",
    "    pred = f'AUTOMATIC TRANSLATION IN {target_str.upper()}'\n",
    "    print(f'{src:30} {tgt:25} {pred}\\n')\n",
    "    \n",
    "    for i, source in enumerate(sources): # translate encoded source text\n",
    "        source = source.reshape((1, source.shape[0]))\n",
    "        translation = predict_seq(model, tar_tokenizer, source)\n",
    "        raw_src,raw_target = raw_dataset[i]\n",
    "        print(f'{raw_src:30} {raw_target:25} {translation}')\n",
    "        if i >= limit: # Display some of the result\n",
    "            break\n",
    " \n",
    "# test on some training sequences\n",
    "# print('### Result on the Training Set ###')\n",
    "# compare_prediction(model, tar_tokenizer, trainX, train)\n",
    "\n",
    "# test on some test sequences\n",
    "print('\\n\\n### Result on the Test Set ###')\n",
    "compare_prediction(model, tar_tokenizer, testX, test[20000:25567,:])"
   ]
  },
  {
   "cell_type": "markdown",
   "metadata": {
    "id": "wi7ldQK6FOmo"
   },
   "source": [
    "### Bleu Score"
   ]
  },
  {
   "cell_type": "code",
   "execution_count": 15,
   "metadata": {
    "id": "RPi7QGO0FOpJ"
   },
   "outputs": [],
   "source": [
    "def bleu_score(model, tokenizer, sources, raw_dataset):\n",
    "    # Get the bleu score of a model\n",
    "    actual, predicted = [], []\n",
    "    for i, source in enumerate(sources):\n",
    "        # translate encoded source text\n",
    "        source = source.reshape((1, source.shape[0]))\n",
    "        translation = predict_seq(model, tar_tokenizer, source)\n",
    "        raw_src,raw_target = raw_dataset[i]\n",
    "        actual.append([raw_target.split()])\n",
    "        predicted.append(translation.split())\n",
    "        \n",
    "    bleu_dic = {}\n",
    "    bleu_dic['1-grams'] = corpus_bleu(actual, predicted, weights=(1.0, 0, 0, 0))\n",
    "    bleu_dic['1-2-grams'] = corpus_bleu(actual, predicted, weights=(0.5, 0.5, 0, 0))\n",
    "    bleu_dic['1-3-grams'] = corpus_bleu(actual, predicted, weights=(0.3, 0.3, 0.3, 0))\n",
    "    bleu_dic['1-4-grams'] = corpus_bleu(actual, predicted, weights=(0.25, 0.25, 0.25, 0.25))\n",
    "    \n",
    "    return bleu_dic\n",
    "\n",
    "# Compute the BLEU Score\n",
    "# bleu_train = bleu_score(model, tar_tokenizer, trainX, train)\n",
    "bleu_test = bleu_score(model, tar_tokenizer, testX,test[20000:25567,:])"
   ]
  },
  {
   "cell_type": "code",
   "execution_count": 16,
   "metadata": {
    "colab": {
     "base_uri": "https://localhost:8080/",
     "height": 281
    },
    "id": "hchkxQ-jFOr6",
    "outputId": "2eee6c5f-14e1-49b2-92ef-c4adb2944cc2"
   },
   "outputs": [
    {
     "data": {
      "image/png": "[encoded data removed]",
      "text/plain": [
       "<Figure size 432x288 with 1 Axes>"
      ]
     },
     "metadata": {
      "needs_background": "light"
     },
     "output_type": "display_data"
    }
   ],
   "source": [
    "plt.bar(x = bleu_test.keys(), height = bleu_test.values())\n",
    "plt.title(\"BLEU Score with last 5567 test set\")\n",
    "plt.ylim((0,1))\n",
    "plt.show()"
   ]
  },
  {
   "cell_type": "code",
   "execution_count": 17,
   "metadata": {
    "colab": {
     "base_uri": "https://localhost:8080/"
    },
    "id": "t27a1i6PFOvX",
    "outputId": "608a4688-afb7-4794-8327-3f4c80c23a2d"
   },
   "outputs": [
    {
     "name": "stdout",
     "output_type": "stream",
     "text": [
      "{'1-grams': 0.759494786789765, '1-2-grams': 0.645264477548591, '1-3-grams': 0.5820684230634864, '1-4-grams': 0.47932525821515526}\n"
     ]
    }
   ],
   "source": [
    "print(bleu_test)"
   ]
  },
  {
   "cell_type": "markdown",
   "metadata": {
    "id": "EPXXlWWiFqyr"
   },
   "source": [
    "### WER"
   ]
  },
  {
   "cell_type": "code",
   "execution_count": 18,
   "metadata": {
    "colab": {
     "base_uri": "https://localhost:8080/"
    },
    "id": "pn9P8NeYFoEt",
    "outputId": "c6bf37b2-f186-4bc2-d9b0-228ef297ae46"
   },
   "outputs": [
    {
     "name": "stdout",
     "output_type": "stream",
     "text": [
      "Looking in indexes: https://pypi.org/simple, https://us-python.pkg.dev/colab-wheels/public/simple/\n",
      "Collecting jiwer\n",
      "  Downloading jiwer-2.3.0-py3-none-any.whl (15 kB)\n",
      "Collecting python-Levenshtein==0.12.2\n",
      "  Downloading python-Levenshtein-0.12.2.tar.gz (50 kB)\n",
      "\u001b[K     |████████████████████████████████| 50 kB 6.8 MB/s \n",
      "\u001b[?25hRequirement already satisfied: setuptools in /usr/local/lib/python3.7/dist-packages (from python-Levenshtein==0.12.2->jiwer) (57.4.0)\n",
      "Building wheels for collected packages: python-Levenshtein\n",
      "  Building wheel for python-Levenshtein (setup.py) ... \u001b[?25l\u001b[?25hdone\n",
      "  Created wheel for python-Levenshtein: filename=python_Levenshtein-0.12.2-cp37-cp37m-linux_x86_64.whl size=149864 sha256=331d78723475d8c45fd7247485717b69e059ca6732b844d0eb3fe83503573fbc\n",
      "  Stored in directory: /root/.cache/pip/wheels/05/5f/ca/7c4367734892581bb5ff896f15027a932c551080b2abd3e00d\n",
      "Successfully built python-Levenshtein\n",
      "Installing collected packages: python-Levenshtein, jiwer\n",
      "Successfully installed jiwer-2.3.0 python-Levenshtein-0.12.2\n",
      "\n",
      "\n",
      "### Result on the Test Set ###\n"
     ]
    }
   ],
   "source": [
    "!pip install jiwer\n",
    "def word_for_id(integer, tokenizer):\n",
    "    # map an integer to a word\n",
    "    for word, index in tokenizer.word_index.items():\n",
    "        if index == integer:\n",
    "            return word\n",
    "    return None\n",
    " \n",
    "def predict_seq(model, tokenizer, source):\n",
    "    # generate target from a source sequence\n",
    "    prediction = model.predict(source, verbose=0)[0]\n",
    "    integers = [np.argmax(vector) for vector in prediction]\n",
    "    target = list()\n",
    "    \n",
    "    for i in integers:\n",
    "        word = word_for_id(i, tokenizer)\n",
    "        if word is None:\n",
    "            break\n",
    "        target.append(word)\n",
    "    return ' '.join(target)\n",
    "\n",
    "def compare_prediction(model, tokenizer, sources, raw_dataset, limit=20):\n",
    "    # evaluate a model\n",
    "    actual, predicted = [], []\n",
    "    src = f'{source_str.upper()} (SOURCE)'\n",
    "    tgt = f'{target_str.upper()} (TARGET)'\n",
    "    pred = f'AUTOMATIC TRANSLATION IN {target_str.upper()}'\n",
    "    #print(f'{src:30} {tgt:25} {pred}\\n')\n",
    "    \n",
    "    for i, source in enumerate(sources): # translate encoded source text\n",
    "        source = source.reshape((1, source.shape[0]))\n",
    "        translation = predict_seq(model, tar_tokenizer, source)\n",
    "        raw_src,raw_target = raw_dataset[i]\n",
    "        #print(f'{raw_src:30} {raw_target:25} {translation}')\n",
    "        #print(translation)     #predicit\n",
    "        #print(raw_target)      #actual\n",
    "        actual.append(raw_target)\n",
    "        predicted.append(translation)\n",
    "        if i >= limit: # Display some of the result\n",
    "            return actual,predicted\n",
    "            break\n",
    " \n",
    "# # test on some training sequences!pip install jiwer\n",
    "# print('### Result on the Training Set ###')\n",
    "# compare_prediction(model, tar_tokenizer, trainX, train)\n",
    "\n",
    "# test on some test sequences\n",
    "print('\\n\\n### Result on the Test Set ###')\n",
    "Actual,Predicted=compare_prediction(model, tar_tokenizer, testX, test[20000:25567,:])"
   ]
  },
  {
   "cell_type": "code",
   "execution_count": 19,
   "metadata": {
    "colab": {
     "base_uri": "https://localhost:8080/"
    },
    "id": "eT5GGfLAFoHN",
    "outputId": "b1cb4395-a9ee-4e93-ae4d-b00c8ba74857"
   },
   "outputs": [
    {
     "data": {
      "text/plain": [
       "0.22727272727272727"
      ]
     },
     "execution_count": 19,
     "metadata": {},
     "output_type": "execute_result"
    }
   ],
   "source": [
    "from jiwer import wer\n",
    "error=wer(Actual,Predicted)\n",
    "error"
   ]
  },
  {
   "cell_type": "markdown",
   "metadata": {
    "id": "pC8bwj9WFoJo"
   },
   "source": [
    "### TER"
   ]
  },
  {
   "cell_type": "code",
   "execution_count": 20,
   "metadata": {
    "colab": {
     "base_uri": "https://localhost:8080/"
    },
    "id": "llqw2iWCFoMc",
    "outputId": "5c7c0891-e5a1-4e17-9ae3-b9da2e0d287a"
   },
   "outputs": [
    {
     "name": "stdout",
     "output_type": "stream",
     "text": [
      "Looking in indexes: https://pypi.org/simple, https://us-python.pkg.dev/colab-wheels/public/simple/\n",
      "Collecting pyter3\n",
      "  Downloading pyter3-0.3-py3-none-any.whl (4.1 kB)\n",
      "Installing collected packages: pyter3\n",
      "Successfully installed pyter3-0.3\n"
     ]
    }
   ],
   "source": [
    "!pip install pyter3\n",
    "import pyter"
   ]
  },
  {
   "cell_type": "code",
   "execution_count": 21,
   "metadata": {
    "colab": {
     "base_uri": "https://localhost:8080/"
    },
    "id": "4irr-JVkFoPS",
    "outputId": "1e985d0f-2d34-4c4d-fecd-66c34ac02a08"
   },
   "outputs": [
    {
     "data": {
      "text/plain": [
       "0.23038548752834465"
      ]
     },
     "execution_count": 21,
     "metadata": {},
     "output_type": "execute_result"
    }
   ],
   "source": [
    "i=0\n",
    "sum=0\n",
    "while i<len(Actual):\n",
    "  #print(pyter.ter(Actual[i].split(),Predicted[i].split()))\n",
    "  sum+=pyter.ter(Actual[i].split(),Predicted[i].split())\n",
    "  i=i+1\n",
    "\n",
    "\n",
    "\n",
    "sum=sum/len(Actual)\n",
    "sum"
   ]
  },
  {
   "cell_type": "markdown",
   "metadata": {
    "id": "1A6Yx5neFoR3"
   },
   "source": [
    "## Average score of all Testing"
   ]
  },
  {
   "cell_type": "markdown",
   "metadata": {
    "id": "orV4oa8sFoUv"
   },
   "source": [
    "### AVERAGE BLEU SCORE"
   ]
  },
  {
   "cell_type": "code",
   "execution_count": 22,
   "metadata": {
    "id": "by7KiRshFoXG"
   },
   "outputs": [],
   "source": [
    "bleu_1=(0.76+0.75+0.75)/3\n",
    "bleu_2=(0.64+0.64+0.64)/3\n",
    "bleu_3=(0.58+0.57+0.58)/3\n",
    "bleu_4=(0.48+0.47+0.47)/3\n",
    "\n",
    "\n"
   ]
  },
  {
   "cell_type": "code",
   "execution_count": 23,
   "metadata": {
    "colab": {
     "base_uri": "https://localhost:8080/"
    },
    "id": "F7oOPmxshcFc",
    "outputId": "54fc1049-5bfd-4bcc-ae6c-c7df8b5e6ab4"
   },
   "outputs": [
    {
     "name": "stdout",
     "output_type": "stream",
     "text": [
      "{'1-grams': 0.7533333333333333, '1-2-grams': 0.64, '1-3-grams': 0.5766666666666667, '1-4-grams': 0.47333333333333333}\n"
     ]
    }
   ],
   "source": [
    "bleu_dic = {}\n",
    "bleu_dic['1-grams']=bleu_1\n",
    "bleu_dic['1-2-grams']= bleu_2\n",
    "bleu_dic['1-3-grams']=bleu_3\n",
    "bleu_dic['1-4-grams']=bleu_4\n",
    "\n",
    "\n",
    "print(bleu_dic)"
   ]
  },
  {
   "cell_type": "code",
   "execution_count": 24,
   "metadata": {
    "colab": {
     "base_uri": "https://localhost:8080/",
     "height": 281
    },
    "id": "yEeKQK4thlGx",
    "outputId": "2a79f9b7-84f3-4146-9499-7e38ca97e29b"
   },
   "outputs": [
    {
     "data": {
      "image/png": "[encoded data removed]",
      "text/plain": [
       "<Figure size 432x288 with 1 Axes>"
      ]
     },
     "metadata": {
      "needs_background": "light"
     },
     "output_type": "display_data"
    }
   ],
   "source": [
    "import matplotlib.pyplot as plt\n",
    "plt.bar(x = bleu_dic.keys(), height = bleu_dic.values())\n",
    "plt.title(\"Average BLEU Score\")\n",
    "plt.ylim((0,1))\n",
    "plt.show()"
   ]
  },
  {
   "cell_type": "code",
   "execution_count": 1,
   "metadata": {
    "colab": {
     "base_uri": "https://localhost:8080/",
     "height": 70
    },
    "id": "pOyBRuwiFoao",
    "outputId": "11e3fec0-e48b-4adf-8c3f-82e8a2d84917"
   },
   "outputs": [
    {
     "name": "stdout",
     "output_type": "stream",
     "text": [
      "Average WER: 0.25\n",
      "Average TER: 0.26\n"
     ]
    }
   ],
   "source": [
    "wer=(0.18+0.35+0.22)/3\n",
    "print(f\"Average WER: {wer}\")\n",
    "\n",
    "ter=(0.19+0.36+0.23)/3\n",
    "print(f'Average TER: {ter}')"
   ]
  }
 ],
 "metadata": {
  "accelerator": "GPU",
  "colab": {
   "collapsed_sections": [],
   "name": "English_to_PSL_NMT_FYP GRU_bs64 Golvee.ipynb",
   "provenance": []
  },
  "kernelspec": {
   "display_name": "Python 3 (ipykernel)",
   "language": "python",
   "name": "python3"
  },
  "language_info": {
   "codemirror_mode": {
    "name": "ipython",
    "version": 3
   },
   "file_extension": ".py",
   "mimetype": "text/x-python",
   "name": "python",
   "nbconvert_exporter": "python",
   "pygments_lexer": "ipython3",
   "version": "3.9.12"
  }
 },
 "nbformat": 4,
 "nbformat_minor": 1
}
